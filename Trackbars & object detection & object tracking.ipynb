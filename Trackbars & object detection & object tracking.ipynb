{
 "cells": [
  {
   "cell_type": "code",
   "execution_count": 7,
   "id": "5b4f96fa",
   "metadata": {},
   "outputs": [],
   "source": [
    "import cv2\n",
    "import numpy as np\n",
    "\n",
    "def nothing(x):\n",
    "    pass    \n",
    "\n",
    "# Load the image once before the loop\n",
    "frame = cv2.imread('download.jpeg')\n",
    "\n",
    "cv2.namedWindow(\"Tracking\")\n",
    "cv2.createTrackbar(\"LH\", \"Tracking\", 0, 255, nothing)\n",
    "cv2.createTrackbar(\"LS\", \"Tracking\", 0, 255, nothing)\n",
    "cv2.createTrackbar(\"LV\", \"Tracking\", 0, 255, nothing)\n",
    "cv2.createTrackbar(\"UH\", \"Tracking\", 255, 255, nothing)\n",
    "cv2.createTrackbar(\"US\", \"Tracking\", 255, 255, nothing)\n",
    "cv2.createTrackbar(\"UV\", \"Tracking\", 255, 255, nothing)\n",
    "\n",
    "while True:\n",
    "    # Convert the frame to HSV\n",
    "    hsv = cv2.cvtColor(frame, cv2.COLOR_BGR2HSV)       \n",
    "\n",
    "    # Get current positions of the trackbars\n",
    "    l_h = cv2.getTrackbarPos(\"LH\", \"Tracking\")       \n",
    "    l_s = cv2.getTrackbarPos(\"LS\", \"Tracking\")       \n",
    "    l_v = cv2.getTrackbarPos(\"LV\", \"Tracking\")       \n",
    "    u_h = cv2.getTrackbarPos(\"UH\", \"Tracking\")       \n",
    "    u_s = cv2.getTrackbarPos(\"US\", \"Tracking\")       \n",
    "    u_v = cv2.getTrackbarPos(\"UV\", \"Tracking\")       \n",
    "\n",
    "    # Define the HSV range based on trackbar positions\n",
    "    l_b = np.array([l_h, l_s, l_v])       \n",
    "    u_b = np.array([u_h, u_s, u_v])       \n",
    "\n",
    "    # Create a mask and result image\n",
    "    mask = cv2.inRange(hsv, l_b, u_b)       \n",
    "    res = cv2.bitwise_and(frame, frame, mask=mask)        \n",
    "\n",
    "    # Display the images\n",
    "    cv2.imshow(\"Original Frame\", frame)        \n",
    "    cv2.imshow(\"Mask\", mask)        \n",
    "    cv2.imshow(\"Result\", res)        \n",
    "\n",
    "    key = cv2.waitKey(1) & 0xFF  # Wait for 1 ms and get the lower 8 bits\n",
    "    if key == 27:  # ESC key to break\n",
    "        break              \n",
    "\n",
    "cv2.destroyAllWindows()\n"
   ]
  },
  {
   "cell_type": "code",
   "execution_count": null,
   "id": "87b0cf0f",
   "metadata": {},
   "outputs": [],
   "source": []
  }
 ],
 "metadata": {
  "kernelspec": {
   "display_name": "Python 3 (ipykernel)",
   "language": "python",
   "name": "python3"
  },
  "language_info": {
   "codemirror_mode": {
    "name": "ipython",
    "version": 3
   },
   "file_extension": ".py",
   "mimetype": "text/x-python",
   "name": "python",
   "nbconvert_exporter": "python",
   "pygments_lexer": "ipython3",
   "version": "3.11.5"
  }
 },
 "nbformat": 4,
 "nbformat_minor": 5
}
